{
 "cells": [
  {
   "cell_type": "markdown",
   "metadata": {
    "colab_type": "text",
    "id": "90jXivcFORgZ"
   },
   "source": [
    "# Exercícios referentes a aula 08/06\n",
    "Introdução ao Python"
   ]
  },
  {
   "cell_type": "markdown",
   "metadata": {
    "colab_type": "text",
    "id": "jFGhUcljQKQh"
   },
   "source": [
    "1) O “Hello World” é bastante utilizado para iniciar em uma nova linguagem de programação, muitos dizem que se você começar aprender uma linguagem de programação e não fazer aparecer na tela este termo, você nunca irá aprender está linguagem. Faça uma programa que exiba a frase \"Hello World\". Utiliza a função print().\n",
    "\n"
   ]
  },
  {
   "cell_type": "code",
   "execution_count": 13,
   "metadata": {
    "colab": {
     "base_uri": "https://localhost:8080/",
     "height": 34
    },
    "colab_type": "code",
    "executionInfo": {
     "elapsed": 1190,
     "status": "ok",
     "timestamp": 1591659363641,
     "user": {
      "displayName": "JOÃO VICTOR CAMPOS DE NEGREIROS",
      "photoUrl": "",
      "userId": "15932746492604546577"
     },
     "user_tz": 240
    },
    "id": "63UvZD1GQJUi",
    "outputId": "90a654be-4593-4ede-e220-5781aed43741"
   },
   "outputs": [
    {
     "name": "stdout",
     "output_type": "stream",
     "text": [
      "Hello World\n"
     ]
    }
   ],
   "source": [
    "print(\"Hello World\")"
   ]
  },
  {
   "cell_type": "markdown",
   "metadata": {
    "colab_type": "text",
    "id": "fnNQQ7cQRKnd"
   },
   "source": [
    "2) Escreva um programa que calcule a área de um circulo. Declare um variável para o raio, defina um valor e declare outra variavel para pi, considere pi = 3.14.\n",
    "\n",
    "\n",
    "Exemplo:\n",
    "\n",
    "Input:\n",
    "```\n",
    "r = 2\n",
    "```\n",
    "output:\n",
    "\n",
    "12.56\n",
    "\n"
   ]
  },
  {
   "cell_type": "code",
   "execution_count": 14,
   "metadata": {
    "colab": {},
    "colab_type": "code",
    "id": "6O9pm7JHGw2B"
   },
   "outputs": [
    {
     "name": "stdout",
     "output_type": "stream",
     "text": [
      "12.56\n"
     ]
    }
   ],
   "source": [
    "PI = 3.14\n",
    "r = 2\n",
    "area_circulo = 2*PI*r\n",
    "print(area_circulo)"
   ]
  },
  {
   "cell_type": "markdown",
   "metadata": {
    "colab_type": "text",
    "id": "h67WB4vfWkr5"
   },
   "source": [
    "3) Execute cada linha abaixo e verifique alguns tipos de dados existentem em Python.\n",
    "\n",
    "```\n",
    "print(type(1))\n",
    "print(type(\"1\"))\n",
    "print(type('1'))\n",
    "print(type(1.1))\n",
    "print(type(1+1.j))\n",
    "print(type((1,1)))\n",
    "print(type(True))\n",
    "```\n",
    "\n"
   ]
  },
  {
   "cell_type": "code",
   "execution_count": 15,
   "metadata": {
    "colab": {},
    "colab_type": "code",
    "id": "q5Lb_GsrWkV4"
   },
   "outputs": [
    {
     "name": "stdout",
     "output_type": "stream",
     "text": [
      "<class 'int'>\n",
      "<class 'str'>\n",
      "<class 'str'>\n",
      "<class 'float'>\n",
      "<class 'complex'>\n",
      "<class 'tuple'>\n",
      "<class 'bool'>\n"
     ]
    }
   ],
   "source": [
    "print(type(1))\n",
    "print(type(\"1\"))\n",
    "print(type('1'))\n",
    "print(type(1.1))\n",
    "print(type(1+1.j))\n",
    "print(type((1,1)))\n",
    "print(type(True))"
   ]
  },
  {
   "cell_type": "markdown",
   "metadata": {
    "colab_type": "text",
    "id": "8QD-6WDyX1fw"
   },
   "source": [
    "4) Uma variável não pode ser utilizada em uma expressão sem ter sido inicializada. Não existe “criação automática” de variáveis. Conserte o código abaixo, criando as variáveis euro e taxa de conversão. Atribua valores a cada uma e print o resultado da variável *reais*.\n",
    "\n",
    "\n",
    "\n",
    "```\n",
    "reais = euros * taxa\n",
    "\n",
    "```\n",
    "\n",
    "\n"
   ]
  },
  {
   "cell_type": "code",
   "execution_count": 11,
   "metadata": {
    "colab": {},
    "colab_type": "code",
    "id": "sR_cYjACSHWn"
   },
   "outputs": [
    {
     "name": "stdout",
     "output_type": "stream",
     "text": [
      "10\n"
     ]
    }
   ],
   "source": [
    "euros = 10\r\n",
    "taxa = 1\r\n",
    "reais = euros * taxa\r\n",
    "print(reais)"
   ]
  },
  {
   "cell_type": "markdown",
   "metadata": {
    "colab_type": "text",
    "id": "kic4hCjkX1d4"
   },
   "source": [
    "5) O uso de comentários é uma prática normal na programação. O objetivo é poder adicionar descrições em partes especificas do código, seja para documentá-lo, seja para adicionar uma descrição, ou mesmo, para marcar que uma determinada linha, ou um conjunto de linhas, não devem ser executados.\n",
    "\n",
    "Insira comentários no seguinte no código abaixo:\n",
    "\n",
    "\n",
    "\n",
    "```\n",
    " a = 1\n",
    " b = 2\n",
    "\n",
    " c = a + b\n",
    "\n",
    " d = a - b\n",
    "\n",
    " e = a ** b\n",
    "\n",
    " print(c)\n",
    " print(d)\n",
    " print(e)\n",
    "```\n",
    "\n",
    "\n",
    "\n",
    "\n",
    "\n"
   ]
  },
  {
   "cell_type": "code",
   "execution_count": 12,
   "metadata": {
    "colab": {},
    "colab_type": "code",
    "id": "_C0t0-QrSJGf"
   },
   "outputs": [
    {
     "name": "stdout",
     "output_type": "stream",
     "text": [
      "3\n",
      "-1\n",
      "1\n"
     ]
    }
   ],
   "source": [
    "# Defenindo variáveis\r\n",
    "a = 1\r\n",
    "b = 2\r\n",
    "\r\n",
    "\"\"\"Calculos: \r\n",
    "c: soma \r\n",
    "d: subtração \r\n",
    "e: exponenciação\r\n",
    "\"\"\"\r\n",
    "c = a + b\r\n",
    "d = a - b\r\n",
    "e = a ** b\r\n",
    "\r\n",
    "print(c)\r\n",
    "print(d)\r\n",
    "print(e)\r\n"
   ]
  },
  {
   "cell_type": "code",
   "execution_count": null,
   "metadata": {},
   "outputs": [],
   "source": []
  }
 ],
 "metadata": {
  "colab": {
   "authorship_tag": "ABX9TyPawolWLafW6FoUaFwybhIg",
   "collapsed_sections": [],
   "name": "1_Exercícios_aula0806.ipynb",
   "provenance": []
  },
  "kernelspec": {
   "display_name": "Python 3.9.5 64-bit",
   "name": "python395jvsc74a57bd0d65f8af9b1347936d5c0a715a1a101b7602968bee42a1bc2161adfc924f1cbb0"
  },
  "language_info": {
   "name": "python",
   "version": ""
  },
  "metadata": {
   "interpreter": {
    "hash": "d65f8af9b1347936d5c0a715a1a101b7602968bee42a1bc2161adfc924f1cbb0"
   }
  }
 },
 "nbformat": 4,
 "nbformat_minor": 4
}