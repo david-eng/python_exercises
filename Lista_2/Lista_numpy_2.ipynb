{
  "cells": [
    {
      "cell_type": "markdown",
      "metadata": {
        "id": "lrKk30flQP8o"
      },
      "source": [
        "# **Orientações **\n",
        "\n",
        "*  Crie uma nova linha ao implementar as soluções para não apagar as respostas desejadas. \n",
        "\n"
      ]
    },
    {
      "cell_type": "markdown",
      "metadata": {
        "id": "dwlp4W7zKocI"
      },
      "source": [
        "1) Cria um array inteiro 4X2 e imprime seus atributos\n",
        "\n",
        "O elemento deve ser um tipo de int16. Imprima os seguintes atributos:\n",
        "\n",
        "*   A forma do array.\n",
        "*   Dimensões do array\n",
        "*   O comprimento de cada elemento do array em bytes.\n",
        "\n"
      ]
    },
    {
      "cell_type": "code",
      "execution_count": 2,
      "metadata": {
        "colab": {
          "base_uri": "https://localhost:8080/"
        },
        "id": "fzwvpUMZLAMi",
        "outputId": "5720bc63-ced6-48a9-d9f0-91ae0d181327"
      },
      "outputs": [
        {
          "name": "stdout",
          "output_type": "stream",
          "text": [
            "Printing numpy array Attributes\n",
            "1> Array Shape is:  (4, 2)\n",
            "2>. Array dimensions are  2\n",
            "3>. Length of each element of array in bytes is  2\n"
          ]
        }
      ],
      "source": []
    },
    {
      "cell_type": "code",
      "execution_count": 30,
      "metadata": {},
      "outputs": [
        {
          "name": "stdout",
          "output_type": "stream",
          "text": [
            "Array Shape is: (4, 2)\n",
            "Array dimensions are 2\n",
            "Length of each element of array in bytes is 2\n"
          ]
        }
      ],
      "source": [
        "import numpy as np\r\n",
        "\r\n",
        "a = np.arange(8, dtype = np.int16).reshape((4, 2))\r\n",
        "shape = np.shape(a)\r\n",
        "dim = a.ndim\r\n",
        "leng = a.itemsize\r\n",
        "\r\n",
        "print(\"Array Shape is:\",shape)\r\n",
        "print(\"Array dimensions are\", dim)\r\n",
        "print(\"Length of each element of array in bytes is\", leng)"
      ]
    },
    {
      "cell_type": "markdown",
      "metadata": {
        "id": "Yd8D3zvgLAaM"
      },
      "source": [
        "2) Crie um array de inteiros 5X2 de um intervalo entre 100 e 200, de modo que a diferença entre cada elemento seja 10 "
      ]
    },
    {
      "cell_type": "code",
      "execution_count": 3,
      "metadata": {
        "colab": {
          "base_uri": "https://localhost:8080/"
        },
        "id": "5HjZQ5IxL95A",
        "outputId": "4f2e0454-9d14-49a7-c146-efbf6c674f77"
      },
      "outputs": [
        {
          "name": "stdout",
          "output_type": "stream",
          "text": [
            "Creating 5X2 array using numpy.arange\n",
            "[[100 110]\n",
            " [120 130]\n",
            " [140 150]\n",
            " [160 170]\n",
            " [180 190]]\n"
          ]
        }
      ],
      "source": []
    },
    {
      "cell_type": "code",
      "execution_count": 37,
      "metadata": {},
      "outputs": [
        {
          "name": "stdout",
          "output_type": "stream",
          "text": [
            "Creating 5X2 array using numpy.arange\n",
            "[[100 110]\n",
            " [120 130]\n",
            " [140 150]\n",
            " [160 170]\n",
            " [180 190]]\n"
          ]
        }
      ],
      "source": [
        "import numpy as np\r\n",
        "\r\n",
        "a = np.arange(100, 200, 10).reshape((5, 2))\r\n",
        "\r\n",
        "print(\"Creating 5X2 array using numpy.arange\")\r\n",
        "print(a)"
      ]
    },
    {
      "cell_type": "markdown",
      "metadata": {
        "id": "xsFkD0cVL_kf"
      },
      "source": [
        "3) A seguir está um array numPy. Retorna o array de itens na terceira coluna de todas as linhas.\n",
        "\n",
        "```\n",
        "sampleArray = numpy.array([[11 ,22, 33], [44, 55, 66], [77, 88, 99]])\n",
        "```\n"
      ]
    },
    {
      "cell_type": "code",
      "execution_count": 4,
      "metadata": {
        "colab": {
          "base_uri": "https://localhost:8080/"
        },
        "id": "SB3DR6jHMWwm",
        "outputId": "75d477f8-ac6b-4012-f5df-8bfd8a65c242"
      },
      "outputs": [
        {
          "name": "stdout",
          "output_type": "stream",
          "text": [
            "Printing Input Array\n",
            "[[11 22 33]\n",
            " [44 55 66]\n",
            " [77 88 99]]\n",
            "\n",
            " Printing array of items in the third column from all rows\n",
            "[22 55 88]\n"
          ]
        }
      ],
      "source": []
    },
    {
      "cell_type": "code",
      "execution_count": 72,
      "metadata": {},
      "outputs": [
        {
          "name": "stdout",
          "output_type": "stream",
          "text": [
            "Printing Input Array\n",
            "[[11 22 33]\n",
            " [44 55 66]\n",
            " [77 88 99]]\n",
            "\n",
            "Printing array of items in the third column from all rows\n",
            "[22 55 88]\n"
          ]
        }
      ],
      "source": [
        "import numpy as np \r\n",
        "sampleArray = np.array([[11 ,22, 33], [44, 55, 66], [77, 88, 99]])\r\n",
        "\r\n",
        "print(\"Printing Input Array\")\r\n",
        "print(sampleArray)\r\n",
        "\r\n",
        "print(\"\\nPrinting array of items in the third column from all rows\")\r\n",
        "print(sampleArray[:,1])"
      ]
    },
    {
      "cell_type": "markdown",
      "metadata": {
        "id": "gazXJHfCMgAX"
      },
      "source": [
        "4) Retorna o array de linhas ímpares e colunas pares do numpy array abaixo:\n",
        "\n",
        "\n",
        "```\n",
        "sampleArray = numpy.array([[3 ,6, 9, 12], [15 ,18, 21, 24], [27 ,30, 33, 36], [39 ,42, 45, 48], [51 ,54, 57, 60]])\n",
        "```\n",
        "\n"
      ]
    },
    {
      "cell_type": "code",
      "execution_count": 5,
      "metadata": {
        "colab": {
          "base_uri": "https://localhost:8080/"
        },
        "id": "GCl0pkItM3zK",
        "outputId": "19368730-c431-48d8-dd58-d0bbff6326f5"
      },
      "outputs": [
        {
          "name": "stdout",
          "output_type": "stream",
          "text": [
            "Printing Input Array\n",
            "[[ 3  6  9 12]\n",
            " [15 18 21 24]\n",
            " [27 30 33 36]\n",
            " [39 42 45 48]\n",
            " [51 54 57 60]]\n",
            "\n",
            " Printing array of odd rows and even columns\n",
            "[[ 6 12]\n",
            " [30 36]\n",
            " [54 60]]\n"
          ]
        }
      ],
      "source": []
    },
    {
      "cell_type": "code",
      "execution_count": 137,
      "metadata": {},
      "outputs": [
        {
          "name": "stdout",
          "output_type": "stream",
          "text": [
            "Printing Input Array\n",
            "[[ 3  6  9 12]\n",
            " [15 18 21 24]\n",
            " [27 30 33 36]\n",
            " [39 42 45 48]\n",
            " [51 54 57 60]]\n",
            "\n",
            "Printing array of odd rows and even columns\n",
            "[[ 6 12]\n",
            " [30 36]\n",
            " [54 60]]\n"
          ]
        }
      ],
      "source": [
        "import numpy as np \r\n",
        "sampleArray = np.array([[3 ,6, 9, 12], [15 ,18, 21, 24], [27 ,30, 33, 36], [39 ,42, 45, 48], [51 ,54, 57, 60]])\r\n",
        "\r\n",
        "print(\"Printing Input Array\")\r\n",
        "print(sampleArray)\r\n",
        "\r\n",
        "\r\n",
        "print(\"\\nPrinting array of odd rows and even columns\")\r\n",
        "print(sampleArray[::2, 1::2])\r\n"
      ]
    },
    {
      "cell_type": "markdown",
      "metadata": {
        "id": "0M0_3lJbM74L"
      },
      "source": [
        "5) Crie um array de resultado adicionando os dois numpy arrays. Em seguida, modifique o array de resultados calculando o quadrado de cada elemento.\n",
        "\n",
        "\n",
        "```\n",
        "arrayOne = numpy.array([[5, 6, 9], [21 ,18, 27]])\n",
        "arrayTwo = numpy.array([[15 ,33, 24], [4 ,7, 1]])\n",
        "```\n"
      ]
    },
    {
      "cell_type": "code",
      "execution_count": 6,
      "metadata": {
        "colab": {
          "base_uri": "https://localhost:8080/"
        },
        "id": "fMJR5I9JNe5p",
        "outputId": "b598042f-f1b3-473a-9cfe-99057e0a1907"
      },
      "outputs": [
        {
          "name": "stdout",
          "output_type": "stream",
          "text": [
            "addition of two arrays is \n",
            "\n",
            "[[20 39 33]\n",
            " [25 25 28]]\n",
            "\n",
            "Result array after calculating the square root of all elements\n",
            "\n",
            "[[ 400 1521 1089]\n",
            " [ 625  625  784]]\n"
          ]
        }
      ],
      "source": []
    },
    {
      "cell_type": "code",
      "execution_count": 1,
      "metadata": {},
      "outputs": [
        {
          "name": "stdout",
          "output_type": "stream",
          "text": [
            "addition of two arrays is\n",
            " [[20 39 33]\n",
            " [25 25 28]]\n",
            "\n",
            "Result array after calculating the square root of all elements\n",
            " \n",
            " [[ 400 1521 1089]\n",
            " [ 625  625  784]]\n"
          ]
        }
      ],
      "source": [
        "import numpy as np \r\n",
        "arrayOne = np.array([[5, 6, 9], [21 ,18, 27]])\r\n",
        "arrayTwo = np.array([[15 ,33, 24], [4 ,7, 1]])\r\n",
        "sumArray = arrayOne + arrayTwo\r\n",
        "squareArray = np.square(sumArray)\r\n",
        "print(\"addition of two arrays is\\n\", sumArray)\r\n",
        "\r\n",
        "print(\"\\nResult array after calculating the square root of all elements\\n \\n\",squareArray)"
      ]
    },
    {
      "cell_type": "markdown",
      "metadata": {
        "id": "sp-7ZHzDNq13"
      },
      "source": [
        "6) Divida o array em quatro subarrays de tamanhos iguais. Crie um array de inteiros 8X3 deintervalo entre 10 a 34 de forma que a diferença entre cada elemento seja 1 e, em seguida, divida o array em quatro submatrizes de tamanhos iguais.\n"
      ]
    },
    {
      "cell_type": "code",
      "execution_count": 10,
      "metadata": {
        "colab": {
          "base_uri": "https://localhost:8080/"
        },
        "id": "B13sfXkqOFjK",
        "outputId": "da9262d7-445b-4793-c417-43cada65ecf0"
      },
      "outputs": [
        {
          "name": "stdout",
          "output_type": "stream",
          "text": [
            "Creating 8X3 array using numpy.arange\n",
            "[[10 11 12]\n",
            " [13 14 15]\n",
            " [16 17 18]\n",
            " [19 20 21]\n",
            " [22 23 24]\n",
            " [25 26 27]\n",
            " [28 29 30]\n",
            " [31 32 33]]\n",
            "\n",
            "Dividing 8X3 array into 4 sub array\n",
            "\n",
            "[array([[10, 11, 12],\n",
            "       [13, 14, 15]]), array([[16, 17, 18],\n",
            "       [19, 20, 21]]), array([[22, 23, 24],\n",
            "       [25, 26, 27]]), array([[28, 29, 30],\n",
            "       [31, 32, 33]])]\n"
          ]
        }
      ],
      "source": []
    },
    {
      "cell_type": "code",
      "execution_count": 1,
      "metadata": {},
      "outputs": [
        {
          "name": "stdout",
          "output_type": "stream",
          "text": [
            "Creating 8X3 array using numpy.arange\n",
            "[[10 11 12]\n",
            " [13 14 15]\n",
            " [16 17 18]\n",
            " [19 20 21]\n",
            " [22 23 24]\n",
            " [25 26 27]\n",
            " [28 29 30]\n",
            " [31 32 33]]\n",
            "\n",
            "Dividing 8X3 array into 4 sub array\n",
            "\n",
            "[array([[10, 11, 12],\n",
            "       [13, 14, 15]]), array([[16, 17, 18],\n",
            "       [19, 20, 21]]), array([[22, 23, 24],\n",
            "       [25, 26, 27]]), array([[28, 29, 30],\n",
            "       [31, 32, 33]])]\n"
          ]
        }
      ],
      "source": [
        "import numpy as np\r\n",
        "\r\n",
        "a = np.arange(10,34, 1).reshape((8, 3))\r\n",
        "print(\"Creating 8X3 array using numpy.arange\")\r\n",
        "print(a)\r\n",
        "print(\"\\nDividing 8X3 array into 4 sub array\\n\")\r\n",
        "b = np.split(a,4)\r\n",
        "print(b)"
      ]
    },
    {
      "cell_type": "markdown",
      "metadata": {
        "id": "9-1MDc6KO6d1"
      },
      "source": [
        "7) Ordene o seguinte array Numpy\n",
        "\n",
        "\n",
        "1.   Ordene o array pela segunda linha\n",
        "2.   Ordene o array pela segunda coluna\n",
        "\n",
        "\n",
        "\n",
        "```\n",
        "sampleArray = numpy.array([[34,43,73],[82,22,12],[53,94,66]])\n",
        "```\n",
        "\n",
        "\n",
        "\n",
        "\n"
      ]
    },
    {
      "cell_type": "code",
      "execution_count": 11,
      "metadata": {
        "colab": {
          "base_uri": "https://localhost:8080/"
        },
        "id": "E02oXDbZPPHO",
        "outputId": "85821c1b-cd63-4949-be54-2d5a80d60a8f"
      },
      "outputs": [
        {
          "name": "stdout",
          "output_type": "stream",
          "text": [
            "Printing Original array\n",
            "[[34 43 73]\n",
            " [82 22 12]\n",
            " [53 94 66]]\n",
            "Sorting Original array by secoond row\n",
            "[[73 43 34]\n",
            " [12 22 82]\n",
            " [66 94 53]]\n",
            "Sorting Original array by secoond column\n",
            "[[82 22 12]\n",
            " [34 43 73]\n",
            " [53 94 66]]\n"
          ]
        }
      ],
      "source": []
    },
    {
      "cell_type": "code",
      "execution_count": 61,
      "metadata": {},
      "outputs": [
        {
          "name": "stdout",
          "output_type": "stream",
          "text": [
            "Printing Original array\n",
            " [[34 43 73]\n",
            " [82 22 12]\n",
            " [53 94 66]]\n",
            "Printing Original array\n",
            " [[73 43 34]\n",
            " [12 22 82]\n",
            " [66 94 53]]\n",
            "Sorting Original array by secoond column\n",
            " [[82 22 12]\n",
            " [34 43 73]\n",
            " [53 94 66]]\n"
          ]
        }
      ],
      "source": [
        "import numpy as np \r\n",
        "sampleArray = np.array([[34,43,73],[82,22,12],[53,94,66]])\r\n",
        "print(\"Printing Original array\\n\", sampleArray)\r\n",
        "print(\"Printing Original array\\n\", sampleArray[:,sampleArray[1,:].argsort()])\r\n",
        "print(\"Sorting Original array by secoond column\\n\", sampleArray[sampleArray[:,1].argsort()])\r\n"
      ]
    },
    {
      "cell_type": "markdown",
      "metadata": {
        "id": "exFkULZMPYHf"
      },
      "source": [
        "8) Imprima o máximo do eixo 0 e mínimo do eixo 1 do seguinte array 2-D.\n",
        "\n",
        "\n",
        "```\n",
        "sampleArray = numpy.array([[34,43,73],[82,22,12],[53,94,66]])\n",
        "```\n"
      ]
    },
    {
      "cell_type": "code",
      "execution_count": 12,
      "metadata": {
        "colab": {
          "base_uri": "https://localhost:8080/"
        },
        "id": "mfShvu-EPmiR",
        "outputId": "55260566-d953-4ce4-e822-7b9b5066cb1a"
      },
      "outputs": [
        {
          "name": "stdout",
          "output_type": "stream",
          "text": [
            "Printing Original array\n",
            "[[34 43 73]\n",
            " [82 22 12]\n",
            " [53 94 66]]\n",
            "Printing amin Of Axis 1\n",
            "[34 12 53]\n",
            "Printing amax Of Axis 0\n",
            "[82 94 73]\n"
          ]
        }
      ],
      "source": [
        "\r\n"
      ]
    },
    {
      "cell_type": "code",
      "execution_count": 60,
      "metadata": {},
      "outputs": [
        {
          "name": "stdout",
          "output_type": "stream",
          "text": [
            "Printing Original array\n",
            " [[34 43 73]\n",
            " [82 22 12]\n",
            " [53 94 66]]\n",
            "Printing amin Of Axis 1\n",
            " [34 12 53]\n",
            "Printing amax Of Axis 0\n",
            " [82 94 73]\n"
          ]
        }
      ],
      "source": [
        "import numpy\r\n",
        "sampleArray = numpy.array([[34,43,73],[82,22,12],[53,94,66]])\r\n",
        "print(\"Printing Original array\\n\", sampleArray)\r\n",
        "a = numpy.amin(sampleArray, axis = 1)\r\n",
        "b = numpy.amax(sampleArray, axis = 0)\r\n",
        "print(\"Printing amin Of Axis 1\\n\", a)\r\n",
        "print(\"Printing amax Of Axis 0\\n\", b)"
      ]
    },
    {
      "cell_type": "markdown",
      "metadata": {
        "id": "OIM0XanePzb9"
      },
      "source": [
        "9) Exclua a segunda coluna de um determinado array e insira a nova coluna seguinte em seu lugar.\n",
        "\n",
        "```\n",
        "sampleArray = numpy.array([[34,43,73],[82,22,12],[53,94,66]]) \n",
        "newColumn = numpy.array([[10,10,10]])\n",
        "\n",
        "```"
      ]
    },
    {
      "cell_type": "code",
      "execution_count": 13,
      "metadata": {
        "colab": {
          "base_uri": "https://localhost:8080/"
        },
        "id": "7pdXtdpfP-mT",
        "outputId": "a6c91674-dde3-4474-d64f-212f225e398b"
      },
      "outputs": [
        {
          "name": "stdout",
          "output_type": "stream",
          "text": [
            "Printing Original array\n",
            "[[34 43 73]\n",
            " [82 22 12]\n",
            " [53 94 66]]\n",
            "Array after deleting column 2 on axis 1\n",
            "[[34 73]\n",
            " [82 12]\n",
            " [53 66]]\n",
            "Array after inserting column 2 on axis 1\n",
            "[[34 10 73]\n",
            " [82 10 12]\n",
            " [53 10 66]]\n"
          ]
        }
      ],
      "source": []
    },
    {
      "cell_type": "code",
      "execution_count": 58,
      "metadata": {},
      "outputs": [
        {
          "name": "stdout",
          "output_type": "stream",
          "text": [
            "Printing Original array\n",
            " [[34 43 73]\n",
            " [82 22 12]\n",
            " [53 94 66]]\n",
            "Array after deleting column 2 on axis 1\n",
            " [[34 43]\n",
            " [82 22]\n",
            " [53 94]]\n",
            "Array after inserting column 2 on axis 1\n",
            " [[34 10 43]\n",
            " [82 10 22]\n",
            " [53 10 94]]\n"
          ]
        }
      ],
      "source": [
        "import numpy\r\n",
        "\r\n",
        "sampleArray = numpy.array([[34, 43, 73], [82, 22, 12], [53, 94, 66]])\r\n",
        "newColumn = numpy.array([[10, 10, 10]])\r\n",
        "print(\"Printing Original array\\n\", sampleArray)\r\n",
        "sampleArray = numpy.delete(sampleArray, 2, axis=1)\r\n",
        "print(\"Array after deleting column 2 on axis 1\\n\", sampleArray)\r\n",
        "sampleArray = numpy.insert(sampleArray, 1, newColumn, axis=1)\r\n",
        "print(\"Array after inserting column 2 on axis 1\\n\", sampleArray)"
      ]
    }
  ],
  "metadata": {
    "colab": {
      "collapsed_sections": [],
      "name": "Lista_numpy_2.ipynb",
      "provenance": []
    },
    "interpreter": {
      "hash": "d65f8af9b1347936d5c0a715a1a101b7602968bee42a1bc2161adfc924f1cbb0"
    },
    "kernelspec": {
      "display_name": "Python 3.9.5 64-bit",
      "name": "python3"
    },
    "language_info": {
      "codemirror_mode": {
        "name": "ipython",
        "version": 3
      },
      "file_extension": ".py",
      "mimetype": "text/x-python",
      "name": "python",
      "nbconvert_exporter": "python",
      "pygments_lexer": "ipython3",
      "version": "3.9.5"
    },
    "metadata": {
      "interpreter": {
        "hash": "d65f8af9b1347936d5c0a715a1a101b7602968bee42a1bc2161adfc924f1cbb0"
      }
    }
  },
  "nbformat": 4,
  "nbformat_minor": 0
}