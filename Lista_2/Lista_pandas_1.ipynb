{
  "cells": [
    {
      "cell_type": "markdown",
      "metadata": {
        "id": "ByrYid6Ycocv"
      },
      "source": [
        "1) Como criar uma serie a partir de um list, numpy array e dict? Print as series.\n",
        "\n",
        "input:\n",
        "\n",
        "```\n",
        "import numpy as np\n",
        "mylist = list('abcedfghijklmnopqrstuvwxyz')\n",
        "myarr = np.arange(26)\n",
        "mydict = dict(zip(mylist, myarr))\n",
        "```\n"
      ]
    },
    {
      "cell_type": "code",
      "execution_count": 10,
      "metadata": {
        "id": "qqWHDG9ubqwp"
      },
      "outputs": [
        {
          "name": "stdout",
          "output_type": "stream",
          "text": [
            "Série a partir de lista:\n",
            " 0     a\n",
            "1     b\n",
            "2     c\n",
            "3     e\n",
            "4     d\n",
            "5     f\n",
            "6     g\n",
            "7     h\n",
            "8     i\n",
            "9     j\n",
            "10    k\n",
            "11    l\n",
            "12    m\n",
            "13    n\n",
            "14    o\n",
            "15    p\n",
            "16    q\n",
            "17    r\n",
            "18    s\n",
            "19    t\n",
            "20    u\n",
            "21    v\n",
            "22    w\n",
            "23    x\n",
            "24    y\n",
            "25    z\n",
            "dtype: object\n",
            "Série a partir de numpy array \n",
            " 0      0\n",
            "1      1\n",
            "2      2\n",
            "3      3\n",
            "4      4\n",
            "5      5\n",
            "6      6\n",
            "7      7\n",
            "8      8\n",
            "9      9\n",
            "10    10\n",
            "11    11\n",
            "12    12\n",
            "13    13\n",
            "14    14\n",
            "15    15\n",
            "16    16\n",
            "17    17\n",
            "18    18\n",
            "19    19\n",
            "20    20\n",
            "21    21\n",
            "22    22\n",
            "23    23\n",
            "24    24\n",
            "25    25\n",
            "dtype: int32\n",
            "Série a partir de dict \n",
            " a     0\n",
            "b     1\n",
            "c     2\n",
            "e     3\n",
            "d     4\n",
            "f     5\n",
            "g     6\n",
            "h     7\n",
            "i     8\n",
            "j     9\n",
            "k    10\n",
            "l    11\n",
            "m    12\n",
            "n    13\n",
            "o    14\n",
            "p    15\n",
            "q    16\n",
            "r    17\n",
            "s    18\n",
            "t    19\n",
            "u    20\n",
            "v    21\n",
            "w    22\n",
            "x    23\n",
            "y    24\n",
            "z    25\n",
            "dtype: int64\n"
          ]
        }
      ],
      "source": [
        "import pandas as pd\r\n",
        "import numpy as np \r\n",
        "mylist = list('abcedfghijklmnopqrstuvwxyz')\r\n",
        "myarr = np.arange(26)\r\n",
        "mydict = dict(zip(mylist, myarr))\r\n",
        "\r\n",
        "serie_mylist = pd.Series(mylist)\r\n",
        "serie_myarr = pd.Series(myarr)\r\n",
        "serie_mydict = pd.Series(mydict)\r\n",
        "\r\n",
        "print(\"Série a partir de lista:\\n\", serie_mylist)\r\n",
        "print(\"Série a partir de numpy array \\n\", serie_myarr)\r\n",
        "print(\"Série a partir de dict \\n\", serie_mydict)"
      ]
    },
    {
      "cell_type": "markdown",
      "metadata": {
        "id": "QEQ4aEWqdMLE"
      },
      "source": [
        "2) Combine ser1 e ser2 para formar um dataframe. Imprima o DataFrame\n",
        "\n",
        "```\n",
        "import numpy as np\n",
        "ser1 = pd.Series(list('abcedfghijklmnopqrstuvwxyz'))\n",
        "ser2 = pd.Series(np.arange(26))\n",
        "```\n",
        "\n"
      ]
    },
    {
      "cell_type": "code",
      "execution_count": 7,
      "metadata": {
        "id": "rowQiF_LgGw-"
      },
      "outputs": [
        {
          "name": "stdout",
          "output_type": "stream",
          "text": [
            "   Ser1  Ser2\n",
            "0     a     0\n",
            "1     b     1\n",
            "2     c     2\n",
            "3     e     3\n",
            "4     d     4\n",
            "5     f     5\n",
            "6     g     6\n",
            "7     h     7\n",
            "8     i     8\n",
            "9     j     9\n",
            "10    k    10\n",
            "11    l    11\n",
            "12    m    12\n",
            "13    n    13\n",
            "14    o    14\n",
            "15    p    15\n",
            "16    q    16\n",
            "17    r    17\n",
            "18    s    18\n",
            "19    t    19\n",
            "20    u    20\n",
            "21    v    21\n",
            "22    w    22\n",
            "23    x    23\n",
            "24    y    24\n",
            "25    z    25\n"
          ]
        }
      ],
      "source": [
        "import pandas as pd\r\n",
        "ser1 = pd.Series(list('abcedfghijklmnopqrstuvwxyz'))\r\n",
        "ser2 = pd.Series(np.arange(26))\r\n",
        "ser12 = pd.DataFrame({\"Ser1\": ser1, \"Ser2\": ser2})\r\n",
        "print(ser12)"
      ]
    },
    {
      "cell_type": "markdown",
      "metadata": {
        "id": "2eWDgA-ugHV7"
      },
      "source": [
        "3) Calcule as frequência de cada elemento único de 'ser'\n",
        "\n",
        "input:\n",
        "\n",
        "```\n",
        "ser = pd.Series(np.take(list('abcdefgh'), np.random.randint(8, size=30)))\n",
        "```\n",
        "\n",
        "'.\n"
      ]
    },
    {
      "cell_type": "code",
      "execution_count": 16,
      "metadata": {
        "id": "vKt_3B2xguuA"
      },
      "outputs": [
        {
          "name": "stdout",
          "output_type": "stream",
          "text": [
            "g    6\n",
            "e    6\n",
            "b    5\n",
            "a    4\n",
            "f    4\n",
            "d    2\n",
            "c    2\n",
            "h    1\n",
            "dtype: int64\n"
          ]
        }
      ],
      "source": [
        "import pandas as pd\r\n",
        "ser = pd.Series(np.take(list('abcdefgh'), np.random.randint(8, size=30)))\r\n",
        "freq = ser.value_counts()\r\n",
        "print(freq)\r\n"
      ]
    },
    {
      "cell_type": "markdown",
      "metadata": {},
      "source": []
    },
    {
      "cell_type": "markdown",
      "metadata": {
        "id": "PNtziKEZg-ka"
      },
      "source": [
        "4) reshape a serie 'ser' em um dataframe com 7 linhas e 5 colunas\n",
        "\n",
        "\n",
        "```\n",
        "ser = pd.Series(np.random.randint(1, 10, 35))\n",
        "```\n",
        "\n"
      ]
    },
    {
      "cell_type": "code",
      "execution_count": 6,
      "metadata": {
        "id": "cSN388AWjr_Q"
      },
      "outputs": [
        {
          "name": "stdout",
          "output_type": "stream",
          "text": [
            "   0  1  2  3  4\n",
            "0  2  2  3  6  5\n",
            "1  8  9  9  1  7\n",
            "2  1  9  9  5  3\n",
            "3  7  1  3  4  1\n",
            "4  6  2  6  9  4\n",
            "5  5  4  8  8  9\n",
            "6  9  3  8  2  6\n"
          ]
        }
      ],
      "source": [
        "import pandas as pd \r\n",
        "import numpy as np \r\n",
        "\r\n",
        "ser = pd.Series(np.random.randint(1, 10, 35))\r\n",
        "re_ser = pd.DataFrame(ser.values.reshape(7,5))\r\n",
        "print(re_ser)"
      ]
    },
    {
      "cell_type": "markdown",
      "metadata": {
        "id": "AYwNSuSzgt-G"
      },
      "source": [
        "5) Empilhe 'ser1' e 'ser2' verticalmente e horizontalmente (para formar um dataframe).\n",
        "\n",
        "input:\n",
        "\n",
        "```\n",
        "\n",
        "ser1 = pd.Series(range(5))\n",
        "ser2 = pd.Series(list('abcde'))\n",
        "```\n",
        "\n",
        "\n"
      ]
    },
    {
      "cell_type": "code",
      "execution_count": 14,
      "metadata": {
        "id": "084mO080jhhn"
      },
      "outputs": [
        {
          "name": "stdout",
          "output_type": "stream",
          "text": [
            "Verical: \n",
            " 0    0\n",
            "1    1\n",
            "2    2\n",
            "3    3\n",
            "4    4\n",
            "0    a\n",
            "1    b\n",
            "2    c\n",
            "3    d\n",
            "4    e\n",
            "dtype: object\n",
            "Horizontal: \n",
            "    Ser1 Ser2\n",
            "0     0    a\n",
            "1     1    b\n",
            "2     2    c\n",
            "3     3    d\n",
            "4     4    e\n"
          ]
        }
      ],
      "source": [
        "import pandas as pd\r\n",
        "ser1 = pd.Series(range(5))\r\n",
        "ser2 = pd.Series(list('abcde'))\r\n",
        "ser_ver = ser1.append(ser2)\r\n",
        "ser_hor = pd.DataFrame({\"Ser1\": ser1, \"Ser2\": ser2})\r\n",
        "print(\"Verical: \\n\", ser_ver)\r\n",
        "print(\"Horizontal: \\n\", ser_hor)"
      ]
    }
  ],
  "metadata": {
    "colab": {
      "name": "Lista_pandas_1.ipynb",
      "provenance": []
    },
    "interpreter": {
      "hash": "d65f8af9b1347936d5c0a715a1a101b7602968bee42a1bc2161adfc924f1cbb0"
    },
    "kernelspec": {
      "display_name": "Python 3.9.5 64-bit",
      "name": "python3"
    },
    "language_info": {
      "name": "python",
      "version": ""
    }
  },
  "nbformat": 4,
  "nbformat_minor": 0
}