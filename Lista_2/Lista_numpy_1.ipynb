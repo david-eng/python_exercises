{
  "cells": [
    {
      "cell_type": "markdown",
      "metadata": {
        "id": "X6nqclAJzV8W"
      },
      "source": [
        "1) Crie um Numpy array de acordo com lista abaixo e imprima-o. \n",
        "\n",
        "\n",
        "```\n",
        "[1, 2, 3, 4]\n",
        "```\n",
        "\n",
        "\n",
        "\n"
      ]
    },
    {
      "cell_type": "code",
      "execution_count": 5,
      "metadata": {
        "colab": {
          "base_uri": "https://localhost:8080/"
        },
        "id": "kIaywbuQz3NE",
        "outputId": "300e8975-17bc-4098-e8f3-56d3a9df07c1"
      },
      "outputs": [
        {
          "name": "stdout",
          "output_type": "stream",
          "text": [
            "[1 2 3 4]\n"
          ]
        }
      ],
      "source": [
        "import numpy as np\r\n",
        "out = np.array([1, 2, 3, 4])\r\n",
        "print(out)"
      ]
    },
    {
      "cell_type": "markdown",
      "metadata": {
        "id": "M7mVDesuzxt3"
      },
      "source": [
        "2) Imprima o dtype do array.\n",
        "\n",
        "\n",
        "```\n",
        "v = np.array([1,2,3,4])\n",
        "```\n",
        "\n"
      ]
    },
    {
      "cell_type": "code",
      "execution_count": 5,
      "metadata": {
        "colab": {
          "base_uri": "https://localhost:8080/"
        },
        "id": "9WgEs9ALx2_T",
        "outputId": "0be58e3a-2556-491a-861c-b0d0e57b19c1"
      },
      "outputs": [
        {
          "name": "stdout",
          "output_type": "stream",
          "text": [
            "int32\n"
          ]
        }
      ],
      "source": [
        "import numpy as np\r\n",
        "v = np.array([1,2,3,4])\r\n",
        "print(v.dtype)"
      ]
    },
    {
      "cell_type": "markdown",
      "metadata": {
        "id": "hCievaPr0GoB"
      },
      "source": [
        "3) Crie o Numpy Array com os mesmos valores da questão anterior especificando o parâmetro dtype. Imprima o dtype do array criado.\n",
        "\n",
        "\n",
        "\n",
        "```\n",
        " dtype='float64'\n",
        "```\n",
        "\n",
        "\n"
      ]
    },
    {
      "cell_type": "code",
      "execution_count": 16,
      "metadata": {
        "colab": {
          "base_uri": "https://localhost:8080/"
        },
        "id": "eOAkW6HD0CZx",
        "outputId": "bf373b74-acdd-4a2c-b04f-13b94178dfed"
      },
      "outputs": [
        {
          "name": "stdout",
          "output_type": "stream",
          "text": [
            "float64\n"
          ]
        }
      ],
      "source": [
        "import numpy as np\r\n",
        "v = np.array([1,2,3,4], dtype='float64')\r\n",
        "print(v.dtype)"
      ]
    },
    {
      "cell_type": "markdown",
      "metadata": {
        "id": "4y-UgRgJ03_o"
      },
      "source": [
        "4) Imprima o shape do array:\n",
        "\n",
        "```\n",
        "v = np.array([1.0,2.0,3.0,4.0])\n",
        "```\n",
        "\n"
      ]
    },
    {
      "cell_type": "code",
      "execution_count": 18,
      "metadata": {
        "id": "JHWjNqRJ1IB9"
      },
      "outputs": [
        {
          "name": "stdout",
          "output_type": "stream",
          "text": [
            "(4,)\n"
          ]
        }
      ],
      "source": [
        "import numpy as np\r\n",
        "\r\n",
        "v = np.array([1.0,2.0,3.0,4.0])\r\n",
        "print(v.shape)"
      ]
    },
    {
      "cell_type": "markdown",
      "metadata": {
        "id": "cuj3VxME1Jc3"
      },
      "source": [
        "5) Realize um reshape em v para (2,2)\n",
        "\n",
        "```\n",
        "v = np.array([1.0,2.0,3.0,4.0])\n",
        "```\n",
        "\n"
      ]
    },
    {
      "cell_type": "code",
      "execution_count": 19,
      "metadata": {
        "colab": {
          "base_uri": "https://localhost:8080/"
        },
        "id": "IUtUfCXy1SRl",
        "outputId": "0e1370f3-873d-431d-9b18-f4644bb33947"
      },
      "outputs": [
        {
          "name": "stdout",
          "output_type": "stream",
          "text": [
            "[[1. 2.]\n",
            " [3. 4.]]\n"
          ]
        }
      ],
      "source": [
        "import numpy as np\r\n",
        "v = np.array([1.0,2.0,3.0,4.0])\r\n",
        "v = v.reshape(2,2)\r\n",
        "print(v)"
      ]
    },
    {
      "cell_type": "markdown",
      "metadata": {
        "id": "A4AE5CiM259C"
      },
      "source": [
        "6) Crie arrays de zeros(3,3), ones(4,4) e um array diagonal(10,10) com valores 10 na diagonal, utilizando as funções \n",
        "\n",
        "```\n",
        "zeros\n",
        "ones\n",
        "diag\n",
        "```\n",
        "\n"
      ]
    },
    {
      "cell_type": "code",
      "execution_count": 57,
      "metadata": {
        "colab": {
          "base_uri": "https://localhost:8080/"
        },
        "id": "AZDaAJq03bug",
        "outputId": "db1b9bf8-d61e-4da9-b8b7-d027ce5e430e"
      },
      "outputs": [
        {
          "name": "stdout",
          "output_type": "stream",
          "text": [
            "[[0. 0. 0.]\n",
            " [0. 0. 0.]\n",
            " [0. 0. 0.]]\n",
            "[[1. 1. 1. 1.]\n",
            " [1. 1. 1. 1.]\n",
            " [1. 1. 1. 1.]\n",
            " [1. 1. 1. 1.]]\n",
            "[[10  0  0  0  0  0  0  0  0  0]\n",
            " [ 0 10  0  0  0  0  0  0  0  0]\n",
            " [ 0  0 10  0  0  0  0  0  0  0]\n",
            " [ 0  0  0 10  0  0  0  0  0  0]\n",
            " [ 0  0  0  0 10  0  0  0  0  0]\n",
            " [ 0  0  0  0  0 10  0  0  0  0]\n",
            " [ 0  0  0  0  0  0 10  0  0  0]\n",
            " [ 0  0  0  0  0  0  0 10  0  0]\n",
            " [ 0  0  0  0  0  0  0  0 10  0]\n",
            " [ 0  0  0  0  0  0  0  0  0 10]]\n"
          ]
        }
      ],
      "source": [
        "import numpy as np\r\n",
        "a = np.zeros((3, 3))\r\n",
        "\r\n",
        "b = np.ones((4,4))\r\n",
        "\r\n",
        "c = np.diag((10,10,10,10, 10,10, 10,10, 10,10))\r\n",
        "\r\n",
        "print(a)\r\n",
        "print(b)\r\n",
        "print(c)"
      ]
    },
    {
      "cell_type": "markdown",
      "metadata": {
        "id": "FlrKolAD3kiJ"
      },
      "source": [
        "7) Crie duas sequências de arrays v e u utilizando o arange e outra linspace\n",
        "paramentros para arange = (0,5,0.5)\n",
        "paramentros para linspace = (0,5,10)\n"
      ]
    },
    {
      "cell_type": "code",
      "execution_count": 61,
      "metadata": {
        "colab": {
          "base_uri": "https://localhost:8080/"
        },
        "id": "5tnW8MEE3kXX",
        "outputId": "ed70a814-55e4-4d48-d8a8-f7922225881e"
      },
      "outputs": [
        {
          "name": "stdout",
          "output_type": "stream",
          "text": [
            "[0.  0.5 1.  1.5 2.  2.5 3.  3.5 4.  4.5]\n",
            "[0.         0.55555556 1.11111111 1.66666667 2.22222222 2.77777778\n",
            " 3.33333333 3.88888889 4.44444444 5.        ]\n"
          ]
        }
      ],
      "source": [
        "import numpy as np\r\n",
        "\r\n",
        "v = np.arange(0,5,0.5)\r\n",
        "u = np.linspace(0,5,10)\r\n",
        "print(v)\r\n",
        "print(u)"
      ]
    },
    {
      "cell_type": "markdown",
      "metadata": {
        "id": "1oW6or6hUlXT"
      },
      "source": [
        "8) Obtenha a média, menor valor e maior valor do array seguinte:\n",
        "\n",
        "\n",
        "```\n",
        "x = np.arange(10)\n",
        "```\n",
        "\n"
      ]
    },
    {
      "cell_type": "code",
      "execution_count": 66,
      "metadata": {
        "colab": {
          "base_uri": "https://localhost:8080/"
        },
        "id": "ICE4poJ_VgCz",
        "outputId": "acf5dd8f-92dc-4e72-cc85-54b4bacc4825"
      },
      "outputs": [
        {
          "name": "stdout",
          "output_type": "stream",
          "text": [
            "Média = 4.5\n",
            "Menor valor = 0\n",
            "Arg max = 9\n"
          ]
        }
      ],
      "source": [
        "import numpy as np\r\n",
        "\r\n",
        "x = np.arange(10)\r\n",
        "media = np.mean(x)\r\n",
        "maior = np.amax(x)\r\n",
        "menor = np.min(x)\r\n",
        "print(\"Média =\", media)\r\n",
        "print(\"Menor valor =\",menor)\r\n",
        "print(\"Arg max =\", maior)\r\n"
      ]
    },
    {
      "cell_type": "markdown",
      "metadata": {
        "id": "Ukkop-BdVq1u"
      },
      "source": [
        "9) Utilize a função 'dot' para realizar o produto interno entre os vetores u e v:\n",
        "\n",
        "\n",
        "```\n",
        "v = np.array([10,20,30])\n",
        "u = np.array([2,2,2])\n",
        "```\n",
        "\n"
      ]
    },
    {
      "cell_type": "code",
      "execution_count": 72,
      "metadata": {
        "colab": {
          "base_uri": "https://localhost:8080/"
        },
        "id": "HBdVSST3WLpL",
        "outputId": "cd61f655-0281-427c-810c-8d9bc2346bde"
      },
      "outputs": [
        {
          "name": "stdout",
          "output_type": "stream",
          "text": [
            "w = 120\n"
          ]
        }
      ],
      "source": [
        "import numpy as np\r\n",
        "\r\n",
        "v = np.array([10,20,30])\r\n",
        "u = np.array([2,2,2])\r\n",
        "\r\n",
        "w = np.dot(v,u)\r\n",
        "print(\"w =\", w)"
      ]
    },
    {
      "cell_type": "markdown",
      "metadata": {
        "id": "pBsGUQMRWWeX"
      },
      "source": [
        "10) Crie uma matriz identidade de ordem 5 utilizando a função 'eye':\n"
      ]
    },
    {
      "cell_type": "code",
      "execution_count": 68,
      "metadata": {
        "colab": {
          "base_uri": "https://localhost:8080/"
        },
        "id": "_ndiu-6eW5fq",
        "outputId": "1df6743c-014e-43b8-be65-5aabe61a9fa9"
      },
      "outputs": [
        {
          "name": "stdout",
          "output_type": "stream",
          "text": [
            "[[1. 0. 0. 0. 0.]\n",
            " [0. 1. 0. 0. 0.]\n",
            " [0. 0. 1. 0. 0.]\n",
            " [0. 0. 0. 1. 0.]\n",
            " [0. 0. 0. 0. 1.]]\n"
          ]
        }
      ],
      "source": [
        "import numpy as np\r\n",
        "\r\n",
        "matriz = np.eye(5,5)\r\n",
        "print(matriz)"
      ]
    },
    {
      "cell_type": "markdown",
      "metadata": {
        "id": "0hKG5tJJW8Rr"
      },
      "source": [
        "11) Realize a multiplicação das matrizes:\n",
        "\n",
        "\n",
        "```\n",
        "v = np.array([10, 10])\n",
        "A = np.arange(4).reshape(2,2)\n",
        "```\n",
        "\n"
      ]
    },
    {
      "cell_type": "code",
      "execution_count": 88,
      "metadata": {
        "colab": {
          "base_uri": "https://localhost:8080/"
        },
        "id": "i4jvKC_kXQOr",
        "outputId": "4eb98fcd-ef44-49d5-db23-a08471c9b6df"
      },
      "outputs": [
        {
          "name": "stdout",
          "output_type": "stream",
          "text": [
            "[10 50]\n"
          ]
        }
      ],
      "source": [
        "import numpy as np\r\n",
        "\r\n",
        "v = np.array([10, 10])\r\n",
        "A = np.arange(4).reshape(2,2)\r\n",
        "w = np.dot(A,v) #produto interno\r\n",
        "\r\n",
        "# print(np.multiply(v,A)) método real de mult de matriz\r\n",
        "print(w)"
      ]
    },
    {
      "cell_type": "markdown",
      "metadata": {
        "id": "0gzOsgnqXZWl"
      },
      "source": [
        "12) Faça a transposição da matriz A utilizando a função 'transpose':\n",
        "\n",
        "\n",
        "```\n",
        "A = np.arange(4).reshape(2,2)\n",
        "```\n",
        "\n"
      ]
    },
    {
      "cell_type": "code",
      "execution_count": 90,
      "metadata": {
        "colab": {
          "base_uri": "https://localhost:8080/"
        },
        "id": "juZe2KBwXlR9",
        "outputId": "a8b120f1-f8a9-4f06-faa0-9d6c4e7d0c1b"
      },
      "outputs": [
        {
          "name": "stdout",
          "output_type": "stream",
          "text": [
            "Matriz A = \n",
            " [[0 1]\n",
            " [2 3]]\n",
            "Transposta de A = \n",
            " [[0 2]\n",
            " [1 3]]\n"
          ]
        }
      ],
      "source": [
        "import numpy as np\r\n",
        "\r\n",
        "A = np.arange(4).reshape(2,2)\r\n",
        "At = np.transpose(A)\r\n",
        "print(\"Matriz A = \\n\", A)\r\n",
        "print(\"Transposta de A = \\n\", At)\r\n"
      ]
    },
    {
      "cell_type": "markdown",
      "metadata": {
        "id": "6r75Cb1NaVrc"
      },
      "source": [
        "13) Gere uma sequência de números pseudo aleatório do tamanho (4,4) utilizando o submódulo do numpy random.\n",
        "\n",
        "\n",
        "```\n",
        "import numpy.random as rd\n",
        "```\n",
        "\n"
      ]
    },
    {
      "cell_type": "code",
      "execution_count": 93,
      "metadata": {
        "colab": {
          "base_uri": "https://localhost:8080/"
        },
        "id": "Vs6n3jlDazkS",
        "outputId": "0b94d248-43bc-493d-955e-51b6923be930"
      },
      "outputs": [
        {
          "name": "stdout",
          "output_type": "stream",
          "text": [
            "[[0.38789245 0.59313129 0.06404196 0.53125151]\n",
            " [0.74876758 0.03731827 0.76054571 0.59963604]\n",
            " [0.623179   0.88262473 0.50211657 0.86119492]\n",
            " [0.21733913 0.48187663 0.41359591 0.29350795]]\n"
          ]
        }
      ],
      "source": [
        "import numpy.random as rd\r\n",
        "print(rd.rand(4,4))"
      ]
    },
    {
      "cell_type": "markdown",
      "metadata": {
        "id": "90izYITZa7R9"
      },
      "source": [
        "14) utilizando a função 'normal' do submódulo, crie uma sequência (4,40 que siga uma distribuição normal com desvio padrão = 1 e média = 10"
      ]
    },
    {
      "cell_type": "code",
      "execution_count": 100,
      "metadata": {
        "colab": {
          "base_uri": "https://localhost:8080/"
        },
        "id": "dqXBzQhubgZF",
        "outputId": "2682ae97-ea02-40e9-acef-3f7ee5bff31f"
      },
      "outputs": [
        {
          "name": "stdout",
          "output_type": "stream",
          "text": [
            "[[10.28131633  8.98574815  8.60557767  8.75784654]\n",
            " [ 9.51668188  8.93138297  9.93421749 10.08047289]\n",
            " [ 9.9136548   9.22853823 13.16726121  9.65349629]\n",
            " [11.03128359 11.24321344 10.93793907  9.44021442]]\n"
          ]
        }
      ],
      "source": [
        "import numpy.random as rd\r\n",
        "print(rd.normal(10,1,[4,4])) # media , desvio, tamanho"
      ]
    },
    {
      "cell_type": "markdown",
      "metadata": {
        "id": "IhglqWEjbk9D"
      },
      "source": [
        "15) Utilize a função 'seed' para definir a semente do número pseudo aleatório a Utilize seed = 1000. A definição da semente deve ser feita antes de invocar a função 'rand'. Teste o valor de v1, execute mais de uma vez e veja o resultado:\n",
        "\n",
        "```\n",
        "v1 = rd.rand(4)\n",
        "```\n",
        "\n"
      ]
    },
    {
      "cell_type": "code",
      "execution_count": 109,
      "metadata": {
        "colab": {
          "base_uri": "https://localhost:8080/"
        },
        "id": "ubHW-k8bbgSE",
        "outputId": "d3bfc314-aefc-473e-e76c-6f85f9387d6d"
      },
      "outputs": [
        {
          "name": "stdout",
          "output_type": "stream",
          "text": [
            "[0.65358959 0.11500694 0.95028286 0.4821914 ]\n"
          ]
        }
      ],
      "source": [
        "import numpy.random as rd\r\n",
        "rd.seed(1000)\r\n",
        "v1 = rd.rand(4)\r\n",
        "print(v1)"
      ]
    },
    {
      "cell_type": "markdown",
      "metadata": {
        "id": "B3lxvHHVgStS"
      },
      "source": [
        "16) Utilize a função 'inv' que pertence a submódulo 'linalg' para computar a matriz inversa de A.\n",
        "\n",
        "\n",
        "```\n",
        "A = np.array([10, 20, 30, 40]).reshape(2,2)\n",
        "```\n"
      ]
    },
    {
      "cell_type": "code",
      "execution_count": 110,
      "metadata": {
        "colab": {
          "base_uri": "https://localhost:8080/"
        },
        "id": "z1H9aSyagtFN",
        "outputId": "ade0e79b-4e2f-4e80-ca84-9e368bafa5a1"
      },
      "outputs": [
        {
          "name": "stdout",
          "output_type": "stream",
          "text": [
            "[[-0.2   0.1 ]\n",
            " [ 0.15 -0.05]]\n"
          ]
        }
      ],
      "source": [
        "import numpy as np\r\n",
        "\r\n",
        "A = np.array([10, 20, 30, 40]).reshape(2,2)\r\n",
        "print(np.linalg.inv(A))"
      ]
    },
    {
      "cell_type": "markdown",
      "metadata": {
        "id": "BdOUuTm4g15P"
      },
      "source": [
        "17) Utilize a função 'det' que pertecene ao submódulo 'linalg' para calcular o determinante da matriz A.\n",
        "\n",
        "```\n",
        "A = np.array([10, 20, 30, 40]).reshape(2,2)\n",
        "```"
      ]
    },
    {
      "cell_type": "code",
      "execution_count": 112,
      "metadata": {
        "colab": {
          "base_uri": "https://localhost:8080/"
        },
        "id": "2n6jklOjhH5B",
        "outputId": "7a4f7aa0-36c0-4f5d-ee0f-c6141f95ab9b"
      },
      "outputs": [
        {
          "name": "stdout",
          "output_type": "stream",
          "text": [
            "Determinante de A = -200.00\n"
          ]
        }
      ],
      "source": [
        "import numpy as np\r\n",
        "\r\n",
        "A = np.array([10, 20, 30, 40]).reshape(2,2)\r\n",
        "dA = np.linalg.det(A)\r\n",
        "print(\"Determinante de A = %.2f\" %dA)"
      ]
    },
    {
      "cell_type": "markdown",
      "metadata": {
        "id": "QYoG8JGXbfmx"
      },
      "source": []
    }
  ],
  "metadata": {
    "colab": {
      "collapsed_sections": [],
      "name": "Lista_numpy.ipynb",
      "provenance": []
    },
    "interpreter": {
      "hash": "d65f8af9b1347936d5c0a715a1a101b7602968bee42a1bc2161adfc924f1cbb0"
    },
    "kernelspec": {
      "display_name": "Python 3.9.5 64-bit",
      "name": "python3"
    },
    "language_info": {
      "name": "python",
      "version": ""
    },
    "metadata": {
      "interpreter": {
        "hash": "d65f8af9b1347936d5c0a715a1a101b7602968bee42a1bc2161adfc924f1cbb0"
      }
    }
  },
  "nbformat": 4,
  "nbformat_minor": 0
}